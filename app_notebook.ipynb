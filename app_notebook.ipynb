{
 "cells": [
  {
   "cell_type": "markdown",
   "metadata": {},
   "source": [
    "# Problema"
   ]
  },
  {
   "cell_type": "markdown",
   "metadata": {},
   "source": [
    "Dada uma carga qualquer, que está no ponto A e deve ir para o ponto B. Qual caminhão escolher para ter o menor valor de frete?"
   ]
  },
  {
   "cell_type": "markdown",
   "metadata": {},
   "source": [
    "# Inicialização dos dados"
   ]
  },
  {
   "cell_type": "code",
   "execution_count": 132,
   "metadata": {},
   "outputs": [
    {
     "name": "stdout",
     "output_type": "stream",
     "text": [
      "Populating the interactive namespace from numpy and matplotlib\n"
     ]
    }
   ],
   "source": [
    "%matplotlib inline\n",
    "%pylab inline\n",
    "\n",
    "# Importar bibliotecas\n",
    "import numpy as np\n",
    "import pandas as pd\n",
    "from time import time\n",
    "import seaborn as sns\n",
    "import matplotlib.pyplot as plt\n",
    "import warnings\n",
    "from math import sin, cos, sqrt, atan2, radians\n",
    "from scipy.optimize import linear_sum_assignment\n",
    "from tabulate import tabulate\n",
    "\n",
    "warnings.filterwarnings(action='ignore')\n",
    "\n",
    "# Ler os dados dos estudantespre\n",
    "trucks = pd.read_csv(\"trucks.csv\")\n",
    "cargo = pd.read_csv(\"cargo.csv\")\n"
   ]
  },
  {
   "cell_type": "markdown",
   "metadata": {},
   "source": [
    "# Análise visual dos dados"
   ]
  },
  {
   "cell_type": "code",
   "execution_count": 2,
   "metadata": {},
   "outputs": [
    {
     "data": {
      "text/html": [
       "<div>\n",
       "<style scoped>\n",
       "    .dataframe tbody tr th:only-of-type {\n",
       "        vertical-align: middle;\n",
       "    }\n",
       "\n",
       "    .dataframe tbody tr th {\n",
       "        vertical-align: top;\n",
       "    }\n",
       "\n",
       "    .dataframe thead th {\n",
       "        text-align: right;\n",
       "    }\n",
       "</style>\n",
       "<table border=\"1\" class=\"dataframe\">\n",
       "  <thead>\n",
       "    <tr style=\"text-align: right;\">\n",
       "      <th></th>\n",
       "      <th>truck</th>\n",
       "      <th>city</th>\n",
       "      <th>state</th>\n",
       "      <th>lat</th>\n",
       "      <th>lng</th>\n",
       "    </tr>\n",
       "  </thead>\n",
       "  <tbody>\n",
       "    <tr>\n",
       "      <th>0</th>\n",
       "      <td>Hartford Plastics Incartford</td>\n",
       "      <td>Florence</td>\n",
       "      <td>AL</td>\n",
       "      <td>34.799810</td>\n",
       "      <td>-87.677251</td>\n",
       "    </tr>\n",
       "    <tr>\n",
       "      <th>1</th>\n",
       "      <td>Beyond Landscape &amp; Design Llcilsonville</td>\n",
       "      <td>Fremont</td>\n",
       "      <td>CA</td>\n",
       "      <td>37.548270</td>\n",
       "      <td>-121.988572</td>\n",
       "    </tr>\n",
       "    <tr>\n",
       "      <th>2</th>\n",
       "      <td>Empire Of Dirt Llcquality</td>\n",
       "      <td>Hampden</td>\n",
       "      <td>ME</td>\n",
       "      <td>44.744542</td>\n",
       "      <td>-68.837044</td>\n",
       "    </tr>\n",
       "    <tr>\n",
       "      <th>3</th>\n",
       "      <td>James Haas Al Haas Shelly Haasairfield</td>\n",
       "      <td>North East</td>\n",
       "      <td>MD</td>\n",
       "      <td>39.600113</td>\n",
       "      <td>-75.941333</td>\n",
       "    </tr>\n",
       "    <tr>\n",
       "      <th>4</th>\n",
       "      <td>Ibrahim Chimandalpharetta</td>\n",
       "      <td>Toledo</td>\n",
       "      <td>OH</td>\n",
       "      <td>41.663938</td>\n",
       "      <td>-83.555212</td>\n",
       "    </tr>\n",
       "  </tbody>\n",
       "</table>\n",
       "</div>"
      ],
      "text/plain": [
       "                                     truck        city state        lat  \\\n",
       "0             Hartford Plastics Incartford    Florence    AL  34.799810   \n",
       "1  Beyond Landscape & Design Llcilsonville     Fremont    CA  37.548270   \n",
       "2                Empire Of Dirt Llcquality     Hampden    ME  44.744542   \n",
       "3   James Haas Al Haas Shelly Haasairfield  North East    MD  39.600113   \n",
       "4                Ibrahim Chimandalpharetta      Toledo    OH  41.663938   \n",
       "\n",
       "          lng  \n",
       "0  -87.677251  \n",
       "1 -121.988572  \n",
       "2  -68.837044  \n",
       "3  -75.941333  \n",
       "4  -83.555212  "
      ]
     },
     "execution_count": 2,
     "metadata": {},
     "output_type": "execute_result"
    }
   ],
   "source": [
    "trucks.head()"
   ]
  },
  {
   "cell_type": "code",
   "execution_count": 3,
   "metadata": {},
   "outputs": [
    {
     "data": {
      "text/html": [
       "<div>\n",
       "<style scoped>\n",
       "    .dataframe tbody tr th:only-of-type {\n",
       "        vertical-align: middle;\n",
       "    }\n",
       "\n",
       "    .dataframe tbody tr th {\n",
       "        vertical-align: top;\n",
       "    }\n",
       "\n",
       "    .dataframe thead th {\n",
       "        text-align: right;\n",
       "    }\n",
       "</style>\n",
       "<table border=\"1\" class=\"dataframe\">\n",
       "  <thead>\n",
       "    <tr style=\"text-align: right;\">\n",
       "      <th></th>\n",
       "      <th>product</th>\n",
       "      <th>origin_city</th>\n",
       "      <th>origin_state</th>\n",
       "      <th>origin_lat</th>\n",
       "      <th>origin_lng</th>\n",
       "      <th>destination_city</th>\n",
       "      <th>destination_state</th>\n",
       "      <th>destination_lat</th>\n",
       "      <th>destination_lng</th>\n",
       "    </tr>\n",
       "  </thead>\n",
       "  <tbody>\n",
       "    <tr>\n",
       "      <th>0</th>\n",
       "      <td>Light bulbs</td>\n",
       "      <td>Sikeston</td>\n",
       "      <td>MO</td>\n",
       "      <td>36.876719</td>\n",
       "      <td>-89.587858</td>\n",
       "      <td>Grapevine</td>\n",
       "      <td>TX</td>\n",
       "      <td>32.934292</td>\n",
       "      <td>-97.078065</td>\n",
       "    </tr>\n",
       "    <tr>\n",
       "      <th>1</th>\n",
       "      <td>Recyclables</td>\n",
       "      <td>Christiansburg</td>\n",
       "      <td>VA</td>\n",
       "      <td>37.129852</td>\n",
       "      <td>-80.408939</td>\n",
       "      <td>Apopka</td>\n",
       "      <td>FL</td>\n",
       "      <td>28.693408</td>\n",
       "      <td>-81.532215</td>\n",
       "    </tr>\n",
       "    <tr>\n",
       "      <th>2</th>\n",
       "      <td>Apples</td>\n",
       "      <td>Columbus</td>\n",
       "      <td>OH</td>\n",
       "      <td>39.961176</td>\n",
       "      <td>-82.998794</td>\n",
       "      <td>Woodland</td>\n",
       "      <td>CA</td>\n",
       "      <td>38.678516</td>\n",
       "      <td>-121.773297</td>\n",
       "    </tr>\n",
       "    <tr>\n",
       "      <th>3</th>\n",
       "      <td>Wood</td>\n",
       "      <td>Hebron</td>\n",
       "      <td>KY</td>\n",
       "      <td>39.066147</td>\n",
       "      <td>-84.703189</td>\n",
       "      <td>Jefferson</td>\n",
       "      <td>LA</td>\n",
       "      <td>29.966037</td>\n",
       "      <td>-90.153130</td>\n",
       "    </tr>\n",
       "    <tr>\n",
       "      <th>4</th>\n",
       "      <td>Cell phones</td>\n",
       "      <td>Hickory</td>\n",
       "      <td>NC</td>\n",
       "      <td>35.734454</td>\n",
       "      <td>-81.344457</td>\n",
       "      <td>La Pine</td>\n",
       "      <td>OR</td>\n",
       "      <td>43.670399</td>\n",
       "      <td>-121.503636</td>\n",
       "    </tr>\n",
       "  </tbody>\n",
       "</table>\n",
       "</div>"
      ],
      "text/plain": [
       "       product     origin_city origin_state  origin_lat  origin_lng  \\\n",
       "0  Light bulbs        Sikeston           MO   36.876719  -89.587858   \n",
       "1  Recyclables  Christiansburg           VA   37.129852  -80.408939   \n",
       "2       Apples        Columbus           OH   39.961176  -82.998794   \n",
       "3         Wood          Hebron           KY   39.066147  -84.703189   \n",
       "4  Cell phones         Hickory           NC   35.734454  -81.344457   \n",
       "\n",
       "  destination_city destination_state  destination_lat  destination_lng  \n",
       "0        Grapevine                TX        32.934292       -97.078065  \n",
       "1           Apopka                FL        28.693408       -81.532215  \n",
       "2         Woodland                CA        38.678516      -121.773297  \n",
       "3        Jefferson                LA        29.966037       -90.153130  \n",
       "4          La Pine                OR        43.670399      -121.503636  "
      ]
     },
     "execution_count": 3,
     "metadata": {},
     "output_type": "execute_result"
    }
   ],
   "source": [
    "cargo.head()"
   ]
  },
  {
   "cell_type": "markdown",
   "metadata": {},
   "source": [
    "## Preparação do dataset de plotagem dos pontos.\n",
    "\n",
    "A plotagem visual dos dados nos permitirá analisar de forma mais facil como estão distribuidos os pontos de carga e os caminhões. Para facilitar a análise, estamos considerando que o mapa é plano, logo, os pontos serão  plotados em um plano cartesiano."
   ]
  },
  {
   "cell_type": "code",
   "execution_count": 4,
   "metadata": {
    "scrolled": true
   },
   "outputs": [],
   "source": [
    "df_coords = pd.DataFrame(columns=[\"lat\", \"lng\", \"type\", 'label'])\n",
    "\n",
    "trucks_ = trucks[[\"lat\", \"lng\"]]\n",
    "cargoi_ = cargo[[\"origin_lat\", \"origin_lng\"]]\n",
    "cargoi_ = cargoi_.rename(columns={\"origin_lng\":\"lng\", \"origin_lat\":\"lat\"})\n",
    "\n",
    "cargof_ = cargo[[\"destination_lng\", \"destination_lat\"]]\n",
    "cargof_ = cargof_.rename(columns={\"destination_lng\":\"lng\", \"destination_lat\":\"lat\"})\n",
    "\n",
    "\n",
    "df_coords = df_coords.append(cargoi_, sort=False)\n",
    "df_coords[\"type\"] = df_coords[\"type\"].fillna(\"Cargo initial position\")\n",
    "\n",
    "df_coords = df_coords.append(cargof_, sort=False)\n",
    "df_coords[\"type\"] = df_coords[\"type\"].fillna(\"Cargo final position\")\n",
    "\n",
    "\n",
    "df_coords = df_coords.append(trucks_, sort=False)\n",
    "df_coords[\"type\"] = df_coords[\"type\"].fillna(\"Truck position\")\n",
    "\n",
    "origin_labels = [f'o{x}' for x in range(1,len(cargo)+1)]\n",
    "destination_labels = [f'd{x}' for x in range(1,len(cargo)+1)]\n",
    "trucks_labels = [f'T{x}' for x in range(1,len(trucks)+1)]\n",
    "\n",
    "df_coords.iloc[0:7]['label'] = origin_labels\n",
    "df_coords.iloc[7:14]['label'] = destination_labels\n",
    "df_coords.iloc[14:]['label'] = trucks_labels"
   ]
  },
  {
   "cell_type": "code",
   "execution_count": 5,
   "metadata": {},
   "outputs": [],
   "source": [
    "def label_point(lat, lng, val, ax):\n",
    "    font = {'family': 'serif',\n",
    "            'color':  'black',\n",
    "            'weight': 'normal',\n",
    "            'size': 20,\n",
    "            }\n",
    "\n",
    "    a = pd.concat({'lat': lat, 'lng': lng, 'val': val}, axis=1)\n",
    "    for i, point in a.iterrows():\n",
    "        ax.text(point['lng']+.02, point['lat'], str(point[\"val\"]), fontdict=font)\n",
    "        \n",
    "#label_point(df_coords.lat, df_coords.lng, df_coords.label, plt.gca()) "
   ]
  },
  {
   "cell_type": "code",
   "execution_count": 11,
   "metadata": {},
   "outputs": [
    {
     "data": {
      "text/plain": [
       "Text(72.22540950347224, 0.5, 'Latitude')"
      ]
     },
     "execution_count": 11,
     "metadata": {},
     "output_type": "execute_result"
    },
    {
     "data": {
      "image/png": "[encoded data removed]",
      "text/plain": [
       "<Figure size 1761.54x720 with 1 Axes>"
      ]
     },
     "metadata": {},
     "output_type": "display_data"
    }
   ],
   "source": [
    "sns.set_context(\"notebook\", font_scale=2.1)\n",
    "sns.set_style(\"ticks\")\n",
    "\n",
    "# Create scatterplot of dataframe\n",
    "ax = sns.lmplot(x='lng', # Horizontal axis\n",
    "               y='lat', # Vertical axis\n",
    "               size=10, \n",
    "               aspect=2,\n",
    "               data=df_coords, # Data source\n",
    "               fit_reg=False, # Don't fix a regression line\n",
    "               hue=\"type\", # Set color\n",
    "               scatter_kws={\"marker\": \"D\", # Set marker style\n",
    "                            \"s\": 100}) # S marker size\n",
    "\n",
    "# Set title\n",
    "plt.title('Coord maps')\n",
    "\n",
    "# Set x-axis label\n",
    "plt.xlabel('Longitude')\n",
    "\n",
    "# Set y-axis label\n",
    "plt.ylabel('Latitude')\n",
    "\n",
    "#label_point(df_coords.lat, df_coords.lng, df_coords.label, plt.gca()) "
   ]
  },
  {
   "cell_type": "code",
   "execution_count": 12,
   "metadata": {},
   "outputs": [],
   "source": [
    "min_lat_sp = cargo[\"origin_lat\"].min()\n",
    "min_lng_sp = cargo[\"origin_lng\"].min()\n",
    "\n",
    "max_lat_sp = cargo[\"origin_lat\"].max()\n",
    "max_lng_sp = cargo[\"origin_lng\"].max()"
   ]
  },
  {
   "cell_type": "code",
   "execution_count": 13,
   "metadata": {},
   "outputs": [
    {
     "name": "stdout",
     "output_type": "stream",
     "text": [
      "15.451081839565083\n",
      "(40.096376049999996, -86.78527145000001)\n"
     ]
    }
   ],
   "source": [
    "dist = math.hypot(min_lat_sp - max_lat_sp, min_lng_sp - max_lng_sp)\n",
    "center = ((min_lat_sp + max_lat_sp)/2, (min_lng_sp + max_lng_sp)/2)\n",
    "print(dist)\n",
    "print(center)"
   ]
  },
  {
   "cell_type": "markdown",
   "metadata": {},
   "source": [
    "# Desenvolvimento do algorítimo\n",
    "\n",
    "Considerando que a distancia da carga é sempre fixa, ou seja, a distancia do ponto de origem até o ponto de destino de cada carga é sempre o mesmo independente de qual caminhão será utilizado para o seu transporte, podemos considerar então que a questão da otimização está associada entre o local em que o caminhão está e o ponto de origem da carga. Em outras palavras, este é um problema de minimazação de uma matriz de custo. Um dos métodos básicos para resolução deste tipo de problema é a aplicação do [Método Hungaro](https://en.wikipedia.org/wiki/Hungarian_algorithm), que geralmente tem complexidade O(n^3)"
   ]
  },
  {
   "cell_type": "markdown",
   "metadata": {},
   "source": [
    "## Criando a tabela de custo\n",
    "Com base no gráfico anterior, para este problema em específico, poderiamos aplicar tecnicas de pré-filtragem dos dados para, por exemplo, desconsiderar aqueles caminhões que estão muito longe de qualquer ponto de origem das cargas. No entanto, num primeiro momento iremos considerá-los nos cálculo e mais tarde se houver oportunidade, acrescentaremos essa melhoria ao algorítimo"
   ]
  },
  {
   "cell_type": "code",
   "execution_count": 136,
   "metadata": {},
   "outputs": [],
   "source": [
    "cargo[\"product_city\"] = cargo[\"product\"] + \"_\" + cargo[\"origin_city\"] + \"_\" + cargo[\"destination_city\"]"
   ]
  },
  {
   "cell_type": "code",
   "execution_count": 137,
   "metadata": {},
   "outputs": [],
   "source": [
    "df_distances = pd.DataFrame(0,\n",
    "        index=trucks[\"truck\"],\n",
    "        columns=cargo['product_city'].values)\n",
    "\n",
    "R = 6373.0\n",
    "\n",
    "def calculate_distance(point1:dict, point2:dict) -> float:\n",
    "    \"\"\" Calculate distance between two points (in Km)\n",
    "    \n",
    "    :param point1: **first (latitude, longitude) point**.\n",
    "        dict with lat and lng keys\n",
    "        \n",
    "    :param point2: **second (latitude, longitude) point**.\n",
    "        dict with lat and lng keys\n",
    "        \n",
    "    \"\"\"\n",
    "    lat1 = radians(point1['lat'])\n",
    "    lon1 = radians(point1['lng'])\n",
    "    lat2 = radians(point2['lat'])\n",
    "    lon2 = radians(point2['lng'])\n",
    "\n",
    "    dlon = lon2 - lon1\n",
    "    dlat = lat2 - lat1\n",
    "\n",
    "    a = (sin(dlat/2)) ** 2 + cos(lat1) * cos(lat2) * (sin(dlon/2)) ** 2\n",
    "    c = 2 * atan2(sqrt(a), sqrt(1-a))\n",
    "    distance = R * c\n",
    "\n",
    "    return distance"
   ]
  },
  {
   "cell_type": "markdown",
   "metadata": {},
   "source": [
    "Tabela de custo considerando a distância entre caminhões e ponto de origem das cargas, as unidades de distância estão em kilômetros"
   ]
  },
  {
   "cell_type": "code",
   "execution_count": 140,
   "metadata": {},
   "outputs": [
    {
     "data": {
      "text/html": [
       "<div>\n",
       "<style scoped>\n",
       "    .dataframe tbody tr th:only-of-type {\n",
       "        vertical-align: middle;\n",
       "    }\n",
       "\n",
       "    .dataframe tbody tr th {\n",
       "        vertical-align: top;\n",
       "    }\n",
       "\n",
       "    .dataframe thead th {\n",
       "        text-align: right;\n",
       "    }\n",
       "</style>\n",
       "<table border=\"1\" class=\"dataframe\">\n",
       "  <thead>\n",
       "    <tr style=\"text-align: right;\">\n",
       "      <th></th>\n",
       "      <th>Light bulbs_Sikeston_Grapevine</th>\n",
       "      <th>Recyclables_Christiansburg_Apopka</th>\n",
       "      <th>Apples_Columbus_Woodland</th>\n",
       "      <th>Wood_Hebron_Jefferson</th>\n",
       "      <th>Cell phones_Hickory_La Pine</th>\n",
       "      <th>Wood_Northfield_Waukegan</th>\n",
       "      <th>Oranges_Fort Madison_Ottawa</th>\n",
       "    </tr>\n",
       "    <tr>\n",
       "      <th>truck</th>\n",
       "      <th></th>\n",
       "      <th></th>\n",
       "      <th></th>\n",
       "      <th></th>\n",
       "      <th></th>\n",
       "      <th></th>\n",
       "      <th></th>\n",
       "    </tr>\n",
       "  </thead>\n",
       "  <tbody>\n",
       "    <tr>\n",
       "      <th>Hartford Plastics Incartford</th>\n",
       "      <td>288.165182</td>\n",
       "      <td>703.551444</td>\n",
       "      <td>707.265188</td>\n",
       "      <td>543.157181</td>\n",
       "      <td>584.325911</td>\n",
       "      <td>1171.845040</td>\n",
       "      <td>722.962915</td>\n",
       "    </tr>\n",
       "    <tr>\n",
       "      <th>Beyond Landscape &amp; Design Llcilsonville</th>\n",
       "      <td>2856.836661</td>\n",
       "      <td>3646.724055</td>\n",
       "      <td>3365.732335</td>\n",
       "      <td>3235.865568</td>\n",
       "      <td>3604.778292</td>\n",
       "      <td>2523.727228</td>\n",
       "      <td>2656.652499</td>\n",
       "    </tr>\n",
       "    <tr>\n",
       "      <th>Empire Of Dirt Llcquality</th>\n",
       "      <td>1946.232255</td>\n",
       "      <td>1287.208429</td>\n",
       "      <td>1277.618524</td>\n",
       "      <td>1454.063266</td>\n",
       "      <td>1457.041023</td>\n",
       "      <td>1919.488300</td>\n",
       "      <td>1887.263095</td>\n",
       "    </tr>\n",
       "    <tr>\n",
       "      <th>James Haas Al Haas Shelly Haasairfield</th>\n",
       "      <td>1228.743411</td>\n",
       "      <td>476.666674</td>\n",
       "      <td>604.448809</td>\n",
       "      <td>755.845395</td>\n",
       "      <td>641.009529</td>\n",
       "      <td>1518.308464</td>\n",
       "      <td>1311.018942</td>\n",
       "    </tr>\n",
       "    <tr>\n",
       "      <th>Ibrahim Chimandalpharetta</th>\n",
       "      <td>743.517740</td>\n",
       "      <td>572.152045</td>\n",
       "      <td>195.103129</td>\n",
       "      <td>304.882605</td>\n",
       "      <td>686.818148</td>\n",
       "      <td>839.627455</td>\n",
       "      <td>659.773376</td>\n",
       "    </tr>\n",
       "  </tbody>\n",
       "</table>\n",
       "</div>"
      ],
      "text/plain": [
       "                                         Light bulbs_Sikeston_Grapevine  \\\n",
       "truck                                                                     \n",
       "Hartford Plastics Incartford                                 288.165182   \n",
       "Beyond Landscape & Design Llcilsonville                     2856.836661   \n",
       "Empire Of Dirt Llcquality                                   1946.232255   \n",
       "James Haas Al Haas Shelly Haasairfield                      1228.743411   \n",
       "Ibrahim Chimandalpharetta                                    743.517740   \n",
       "\n",
       "                                         Recyclables_Christiansburg_Apopka  \\\n",
       "truck                                                                        \n",
       "Hartford Plastics Incartford                                    703.551444   \n",
       "Beyond Landscape & Design Llcilsonville                        3646.724055   \n",
       "Empire Of Dirt Llcquality                                      1287.208429   \n",
       "James Haas Al Haas Shelly Haasairfield                          476.666674   \n",
       "Ibrahim Chimandalpharetta                                       572.152045   \n",
       "\n",
       "                                         Apples_Columbus_Woodland  \\\n",
       "truck                                                               \n",
       "Hartford Plastics Incartford                           707.265188   \n",
       "Beyond Landscape & Design Llcilsonville               3365.732335   \n",
       "Empire Of Dirt Llcquality                             1277.618524   \n",
       "James Haas Al Haas Shelly Haasairfield                 604.448809   \n",
       "Ibrahim Chimandalpharetta                              195.103129   \n",
       "\n",
       "                                         Wood_Hebron_Jefferson  \\\n",
       "truck                                                            \n",
       "Hartford Plastics Incartford                        543.157181   \n",
       "Beyond Landscape & Design Llcilsonville            3235.865568   \n",
       "Empire Of Dirt Llcquality                          1454.063266   \n",
       "James Haas Al Haas Shelly Haasairfield              755.845395   \n",
       "Ibrahim Chimandalpharetta                           304.882605   \n",
       "\n",
       "                                         Cell phones_Hickory_La Pine  \\\n",
       "truck                                                                  \n",
       "Hartford Plastics Incartford                              584.325911   \n",
       "Beyond Landscape & Design Llcilsonville                  3604.778292   \n",
       "Empire Of Dirt Llcquality                                1457.041023   \n",
       "James Haas Al Haas Shelly Haasairfield                    641.009529   \n",
       "Ibrahim Chimandalpharetta                                 686.818148   \n",
       "\n",
       "                                         Wood_Northfield_Waukegan  \\\n",
       "truck                                                               \n",
       "Hartford Plastics Incartford                          1171.845040   \n",
       "Beyond Landscape & Design Llcilsonville               2523.727228   \n",
       "Empire Of Dirt Llcquality                             1919.488300   \n",
       "James Haas Al Haas Shelly Haasairfield                1518.308464   \n",
       "Ibrahim Chimandalpharetta                              839.627455   \n",
       "\n",
       "                                         Oranges_Fort Madison_Ottawa  \n",
       "truck                                                                 \n",
       "Hartford Plastics Incartford                              722.962915  \n",
       "Beyond Landscape & Design Llcilsonville                  2656.652499  \n",
       "Empire Of Dirt Llcquality                                1887.263095  \n",
       "James Haas Al Haas Shelly Haasairfield                   1311.018942  \n",
       "Ibrahim Chimandalpharetta                                 659.773376  "
      ]
     },
     "metadata": {},
     "output_type": "display_data"
    }
   ],
   "source": [
    "\n",
    "for truck_index, truck_row in trucks.iterrows():\n",
    "    for product_index, product_row in cargo.iterrows():\n",
    "\n",
    "        distance = calculate_distance(\n",
    "            dict(lat=truck_row['lat'], lng=truck_row['lng']),\n",
    "            dict(lat=product_row['origin_lat'], lng=product_row['origin_lng'])\n",
    "            )\n",
    "        \n",
    "        df_distances.loc[truck_row['truck'], product_row['product_city']] = distance\n",
    "\n",
    "display(df_distances.head())"
   ]
  },
  {
   "cell_type": "markdown",
   "metadata": {},
   "source": [
    "Para podermos aplicar o método hungaro, precisamos que a matriz seja quadrada. Dessa forma iremos criar colunas falsas com o valor zero."
   ]
  },
  {
   "cell_type": "code",
   "execution_count": 141,
   "metadata": {},
   "outputs": [],
   "source": [
    "fake_columns_count = len(trucks) - len(cargo) + 1\n",
    "\n",
    "for i in range(1,fake_columns_count):\n",
    "    df_distances[f'fake{i}'] = pd.Series(0, index=df_distances.index)"
   ]
  },
  {
   "cell_type": "markdown",
   "metadata": {},
   "source": [
    "Executa a minimização do custo através da função linear_sum_assignment"
   ]
  },
  {
   "cell_type": "code",
   "execution_count": 142,
   "metadata": {},
   "outputs": [
    {
     "name": "stdout",
     "output_type": "stream",
     "text": [
      "Total distance from origin is 1361.76 km\n"
     ]
    }
   ],
   "source": [
    "cost_matrix = df_distances.astype('float').values\n",
    "row_ind, col_ind = linear_sum_assignment(cost_matrix)\n",
    "cost = cost_matrix[row_ind, col_ind].sum()\n",
    "\n",
    "print(f\"Total distance from origin is {cost:.2f} km\")\n"
   ]
  },
  {
   "cell_type": "markdown",
   "metadata": {},
   "source": [
    "Com a tabela de custo devidamente otimizada, apresentamos o resultado final que responde a pergunta:    \n",
    "    - Dada uma carga qualquer que está no ponto A e deve ir para o ponto B. Qual caminhão escolher para ter o menor valor de frete?"
   ]
  },
  {
   "cell_type": "code",
   "execution_count": 144,
   "metadata": {},
   "outputs": [],
   "source": [
    "TRUCK_IDX = 0\n",
    "CARGO_IDX = 1\n",
    "\n",
    "data = []\n",
    "for item in zip(row_ind, col_ind):\n",
    "    distance = df_distances.iloc[item[TRUCK_IDX], item[CARGO_IDX]]\n",
    "    if distance == 0:\n",
    "        continue\n",
    "\n",
    "    truck_name = df_distances.iloc[item[TRUCK_IDX]].name\n",
    "    product_name, origin, destination = \\\n",
    "        df_distances.iloc[:, item[CARGO_IDX]].name.split(\"_\")\n",
    "\n",
    "    data.append([truck_name,\n",
    "                 product_name,\n",
    "                 origin,\n",
    "                 destination,\n",
    "                 distance])\n"
   ]
  },
  {
   "cell_type": "code",
   "execution_count": 145,
   "metadata": {},
   "outputs": [
    {
     "name": "stdout",
     "output_type": "stream",
     "text": [
      "Truck                               Cargo        Origin          Destination      Distance from origin (km)\n",
      "----------------------------------  -----------  --------------  -------------  ---------------------------\n",
      "Viking Products Of Austin Incustin  Light bulbs  Sikeston        Grapevine                         189.529\n",
      "Paul J Krez Companyorton Grove      Cell phones  Hickory         La Pine                            64.8443\n",
      "Gary Lee Wilcoxpencer               Wood         Northfield      Waukegan                          347.271\n",
      "Ricardo Juradoacramento             Recyclables  Christiansburg  Apopka                            172.511\n",
      "Kjellberg'S Carpet Oneuffalo        Apples       Columbus        Woodland                           64.9042\n",
      "Fish-Bones Towingew York            Oranges      Fort Madison    Ottawa                            259.808\n",
      "Wisebuys Stores Incouverneur        Wood         Hebron          Jefferson                         262.894\n"
     ]
    }
   ],
   "source": [
    "print(tabulate(data, headers=['Truck', 'Cargo',\n",
    "                              'Origin', 'Destination',\n",
    "                              'Distance from origin (km)']))\n"
   ]
  }
 ],
 "metadata": {
  "kernelspec": {
   "display_name": "Python 3",
   "language": "python",
   "name": "python3"
  },
  "language_info": {
   "codemirror_mode": {
    "name": "ipython",
    "version": 3
   },
   "file_extension": ".py",
   "mimetype": "text/x-python",
   "name": "python",
   "nbconvert_exporter": "python",
   "pygments_lexer": "ipython3",
   "version": "3.7.6"
  }
 },
 "nbformat": 4,
 "nbformat_minor": 4
}
